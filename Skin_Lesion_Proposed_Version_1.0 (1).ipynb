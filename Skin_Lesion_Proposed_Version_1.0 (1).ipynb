{
 "cells": [
  {
   "cell_type": "code",
   "execution_count": 1,
   "id": "c7037a67-d57d-42e1-81ec-8b35bc616740",
   "metadata": {},
   "outputs": [
    {
     "name": "stdout",
     "output_type": "stream",
     "text": [
      "PyTorch Version: 2.6.0+cu118\n",
      "CUDA Available: True\n",
      "Number of GPUs: 1\n",
      "GPU Name: NVIDIA GeForce RTX 4090\n",
      "Done\n"
     ]
    }
   ],
   "source": [
    "import torch\n",
    "print(\"PyTorch Version:\", torch.__version__)\n",
    "print(\"CUDA Available:\", torch.cuda.is_available())\n",
    "print(\"Number of GPUs:\", torch.cuda.device_count())\n",
    "if torch.cuda.is_available():\n",
    "    print(\"GPU Name:\", torch.cuda.get_device_name(0))\n",
    "print(\"Done\")"
   ]
  },
  {
   "cell_type": "code",
   "execution_count": 2,
   "id": "300acdd2-2d5c-41c2-8b0b-45f227c9331e",
   "metadata": {},
   "outputs": [
    {
     "name": "stdout",
     "output_type": "stream",
     "text": [
      "Using device: cuda\n",
      "Done\n"
     ]
    }
   ],
   "source": [
    "import torch\n",
    "import pandas as pd\n",
    "from sklearn.model_selection import train_test_split\n",
    "from torchvision import transforms\n",
    "from torch.utils.data import Dataset, DataLoader\n",
    "from PIL import Image\n",
    "\n",
    "# ✅ Check GPU availability\n",
    "device = torch.device(\"cuda\" if torch.cuda.is_available() else \"cpu\")\n",
    "print(f\"Using device: {device}\")\n",
    "\n",
    "# ✅ Load dataset CSV (ensure 'label' and 'image' columns are present)\n",
    "csv_path = r\"E:\\Code\\ISIC_2019_Training_GroundTruth_Transformed.csv\"\n",
    "df = pd.read_csv(csv_path)\n",
    "\n",
    "# ✅ Add full image paths\n",
    "image_folder = r\"E:/Code/ISIC_2019_Training_Input\"\n",
    "df[\"image_path\"] = df[\"image\"].apply(lambda x: f\"{image_folder}/{x}.jpg\")\n",
    "\n",
    "# ✅ Train-Validation Split (80-20)\n",
    "train_df, val_df = train_test_split(df, test_size=0.2, random_state=42, stratify=df[\"diagnosis\"])\n",
    "\n",
    "# ✅ Image Augmentation for training\n",
    "train_transform = transforms.Compose([\n",
    "    transforms.RandomResizedCrop(224),\n",
    "    transforms.RandomHorizontalFlip(),\n",
    "    transforms.RandomRotation(10),\n",
    "    transforms.ColorJitter(brightness=0.2, contrast=0.2, saturation=0.2, hue=0.1),\n",
    "    transforms.ToTensor(),\n",
    "    transforms.Normalize(mean=[0.485, 0.456, 0.406], std=[0.229, 0.224, 0.225])\n",
    "])\n",
    "\n",
    "# ✅ Validation Transform (no augmentation)\n",
    "val_transform = transforms.Compose([\n",
    "    transforms.Resize((224, 224)),\n",
    "    transforms.ToTensor(),\n",
    "    transforms.Normalize(mean=[0.485, 0.456, 0.406], std=[0.229, 0.224, 0.225])\n",
    "])\n",
    "print(\"Done\")"
   ]
  },
  {
   "cell_type": "code",
   "execution_count": 3,
   "id": "115a99bb-44e7-4a66-a566-59ba15bb56de",
   "metadata": {},
   "outputs": [],
   "source": [
    "import torch\n",
    "from PIL import Image\n",
    "\n",
    "# Label mapping for multiclass classification\n",
    "label_mapping = {\n",
    "    \"MEL\": 0,  # Melanoma\n",
    "    \"NV\": 1,   # Melanocytic Nevus\n",
    "    \"BCC\": 2,  # Basal Cell Carcinoma\n",
    "    \"AK\": 3,   # Actinic Keratosis\n",
    "    \"BKL\": 4,  # Benign Keratosis\n",
    "    \"DF\": 5,   # Dermatofibroma\n",
    "    \"VASC\": 6, # Vascular Lesion\n",
    "    \"SCC\": 7   # Squamous Cell Carcinoma\n",
    "}\n",
    "\n",
    "class SkinLesionDataset(torch.utils.data.Dataset):\n",
    "    def __init__(self, dataframe, transform=None):\n",
    "        self.dataframe = dataframe\n",
    "        self.transform = transform\n",
    "\n",
    "    def __len__(self):\n",
    "        return len(self.dataframe)\n",
    "\n",
    "    def __getitem__(self, idx):\n",
    "        img_path = self.dataframe.iloc[idx][\"image_path\"]\n",
    "        label_str = self.dataframe.iloc[idx][\"diagnosis\"]\n",
    "        \n",
    "        # Convert string label to integer using the mapping\n",
    "        label = label_mapping[label_str]\n",
    "\n",
    "        # Convert to PyTorch tensor\n",
    "        label = torch.tensor(label, dtype=torch.long)  \n",
    "\n",
    "        image = Image.open(img_path).convert(\"RGB\")\n",
    "        \n",
    "        if self.transform:\n",
    "            image = self.transform(image)\n",
    "\n",
    "        return image, label\n"
   ]
  },
  {
   "cell_type": "code",
   "execution_count": 4,
   "id": "d6bdafce-122c-4c2c-b1cf-e6c746412012",
   "metadata": {},
   "outputs": [
    {
     "name": "stdout",
     "output_type": "stream",
     "text": [
      "Train size: 20264, Validation size: 5067\n"
     ]
    }
   ],
   "source": [
    "# ✅ Create datasets\n",
    "train_dataset = SkinLesionDataset(train_df, train_transform)\n",
    "val_dataset = SkinLesionDataset(val_df, val_transform)\n",
    "\n",
    "# ✅ Define batch size\n",
    "batch_size = 64\n",
    "\n",
    "# ✅ Create DataLoaders\n",
    "train_loader = DataLoader(train_dataset, batch_size=batch_size, shuffle=True)\n",
    "val_loader = DataLoader(val_dataset, batch_size=batch_size, shuffle=False)\n",
    "\n",
    "print(f\"Train size: {len(train_loader.dataset)}, Validation size: {len(val_loader.dataset)}\")\n"
   ]
  },
  {
   "cell_type": "code",
   "execution_count": 5,
   "id": "52c824df-2a39-4c01-b659-1bc336897f60",
   "metadata": {},
   "outputs": [
    {
     "name": "stdout",
     "output_type": "stream",
     "text": [
      "Done\n"
     ]
    }
   ],
   "source": [
    "import torch.nn as nn\n",
    "\n",
    "# Define SE Block (Channel Attention)\n",
    "class SEBlock(nn.Module):\n",
    "    def __init__(self, channels, reduction=16):\n",
    "        super(SEBlock, self).__init__()\n",
    "        self.squeeze = nn.AdaptiveAvgPool2d(1)  # Global average pooling\n",
    "        self.excitation = nn.Sequential(\n",
    "            nn.Linear(channels, channels // reduction, bias=False),\n",
    "            nn.ReLU(inplace=True),\n",
    "            nn.Linear(channels // reduction, channels, bias=False),\n",
    "            nn.Sigmoid()\n",
    "        )\n",
    "\n",
    "    def forward(self, x):\n",
    "        batch, channels, _, _ = x.size()\n",
    "        # Squeeze: Global average pooling\n",
    "        y = self.squeeze(x).view(batch, channels)\n",
    "        # Excitation: Fully connected layers to compute channel-wise weights\n",
    "        y = self.excitation(y).view(batch, channels, 1, 1)\n",
    "        # Scale the input feature map\n",
    "        return x * y.expand_as(x)\n",
    "\n",
    "# Define Hybrid CBAM + SE Block\n",
    "class HybridAttention(nn.Module):\n",
    "    def __init__(self, channels, reduction=16):\n",
    "        super(HybridAttention, self).__init__()\n",
    "        # SE for channel attention\n",
    "        self.se = SEBlock(channels, reduction)\n",
    "        # Spatial Attention from CBAM\n",
    "        self.spatial_att = nn.Sequential(\n",
    "            nn.Conv2d(2, 1, 7, padding=3),\n",
    "            nn.Sigmoid()\n",
    "        )\n",
    "\n",
    "    def forward(self, x):\n",
    "        # Channel attention with SE\n",
    "        channel_att = self.se(x)\n",
    "        # Spatial attention\n",
    "        max_pool = torch.max(channel_att, dim=1, keepdim=True)[0]\n",
    "        avg_pool = torch.mean(channel_att, dim=1, keepdim=True)\n",
    "        spatial_att = torch.cat([max_pool, avg_pool], dim=1)\n",
    "        spatial_att = self.spatial_att(spatial_att) * channel_att\n",
    "        return spatial_att\n",
    "\n",
    "print(\"Done\")"
   ]
  },
  {
   "cell_type": "code",
   "execution_count": 6,
   "id": "33bee4d2-bce1-4767-acd2-ca3cd1d9587a",
   "metadata": {},
   "outputs": [
    {
     "name": "stdout",
     "output_type": "stream",
     "text": [
      "Done\n"
     ]
    }
   ],
   "source": [
    "import torch\n",
    "import torch.nn as nn\n",
    "from torchvision.models import efficientnet_b4, EfficientNet_B4_Weights, densenet169, DenseNet169_Weights\n",
    "class EnsembleModel(nn.Module):\n",
    "    def __init__(self, num_classes=8):\n",
    "        super(EnsembleModel, self).__init__()\n",
    "\n",
    "        # Load Pretrained models\n",
    "        self.efficientnet = efficientnet_b4(weights=EfficientNet_B4_Weights.IMAGENET1K_V1)\n",
    "        self.densenet = densenet169(weights=DenseNet169_Weights.IMAGENET1K_V1)\n",
    "\n",
    "        # Extract feature extractor part\n",
    "        self.efficientnet = self.efficientnet.features  # EfficientNet feature extractor\n",
    "        self.densenet = self.densenet.features  # DenseNet feature extractor\n",
    "\n",
    "        # Hybrid Attention for individual models\n",
    "        self.att_efficientnet = HybridAttention(1792)  # EfficientNet-b4 output channels\n",
    "        self.att_densenet = HybridAttention(1664)  # DenseNet169 output channels\n",
    "\n",
    "        # Pooling & Flattening\n",
    "        self.pool = nn.AdaptiveAvgPool2d(1)\n",
    "        self.flatten = nn.Flatten()\n",
    "\n",
    "        # Hybrid Attention after concatenation\n",
    "        self.att_concat = HybridAttention(1792 + 1664)  # Combined features\n",
    "\n",
    "        # Fully Connected layers\n",
    "        self.fc = nn.Sequential(\n",
    "            nn.Linear(1792 + 1664, 1024),\n",
    "            nn.ReLU(),\n",
    "            nn.Dropout(0.5),\n",
    "            nn.Linear(1024, num_classes)\n",
    "        )\n",
    "\n",
    "    def forward(self, x):\n",
    "        # Feature extraction\n",
    "        feat_a = self.att_efficientnet(self.efficientnet(x))\n",
    "        feat_b = self.att_densenet(self.densenet(x))\n",
    "\n",
    "        # Pool and flatten\n",
    "        feat_a = self.flatten(self.pool(feat_a))\n",
    "        feat_b = self.flatten(self.pool(feat_b))\n",
    "\n",
    "        # Concatenate features\n",
    "        combined = torch.cat((feat_a, feat_b), dim=1)\n",
    "\n",
    "        # Apply hybrid attention\n",
    "        combined = combined.unsqueeze(-1).unsqueeze(-1)  # Shape: [batch, 1792+1664, 1, 1]\n",
    "        combined = self.att_concat(combined)\n",
    "        combined = combined.squeeze(-1).squeeze(-1)  # Shape: [batch, 1792+1664]\n",
    "\n",
    "        # Fully connected layers\n",
    "        out = self.fc(combined)\n",
    "        return out\n",
    "\n",
    "print(\"Done\")"
   ]
  },
  {
   "cell_type": "code",
   "execution_count": 7,
   "id": "185e6152-0a47-49b5-ba15-2a6fe57e13f3",
   "metadata": {},
   "outputs": [
    {
     "name": "stdout",
     "output_type": "stream",
     "text": [
      "Model initialized and moved to GPU.\n"
     ]
    }
   ],
   "source": [
    "# ✅ Initialize model\n",
    "num_classes = train_df['diagnosis'].nunique()\n",
    "model = EnsembleModel(num_classes=num_classes)\n",
    "model = model.to(device)\n",
    "\n",
    "# ✅ Loss and Optimizer\n",
    "criterion = nn.CrossEntropyLoss()\n",
    "optimizer = torch.optim.Adam(model.parameters(), lr=0.0001)\n",
    "\n",
    "print(\"Model initialized and moved to GPU.\")\n"
   ]
  },
  {
   "cell_type": "code",
   "execution_count": 8,
   "id": "818e8426-6ae2-44a4-89be-eb4874daf2f2",
   "metadata": {},
   "outputs": [
    {
     "name": "stdout",
     "output_type": "stream",
     "text": [
      "Done\n"
     ]
    }
   ],
   "source": [
    "from tqdm import tqdm\n",
    "\n",
    "# ✅ Evaluation Function\n",
    "def evaluate(model, loader, criterion):\n",
    "    model.eval()\n",
    "    total_loss, correct, total = 0, 0, 0\n",
    "\n",
    "    with torch.no_grad():\n",
    "        for images, labels in loader:\n",
    "            images, labels = images.to(device), labels.to(device)\n",
    "\n",
    "            outputs = model(images)\n",
    "            loss = criterion(outputs, labels)\n",
    "\n",
    "            total_loss += loss.item()\n",
    "            preds = torch.argmax(outputs, dim=1)\n",
    "            correct += (preds == labels).sum().item()\n",
    "            total += labels.size(0)\n",
    "\n",
    "    accuracy = 100 * correct / total\n",
    "    return total_loss / len(loader), accuracy\n",
    "\n",
    "# ✅ Training Loop\n",
    "def train_model(model, train_loader, val_loader, criterion, optimizer, epochs=10):\n",
    "    for epoch in range(epochs):\n",
    "        model.train()\n",
    "        running_loss, correct, total = 0, 0, 0\n",
    "\n",
    "        progress_bar = tqdm(train_loader, desc=f\"Epoch {epoch+1}/{epochs}\")\n",
    "        for images, labels in progress_bar:\n",
    "            images, labels = images.to(device), labels.to(device)\n",
    "\n",
    "            optimizer.zero_grad()\n",
    "            outputs = model(images)\n",
    "            loss = criterion(outputs, labels)\n",
    "            loss.backward()\n",
    "            optimizer.step()\n",
    "\n",
    "            running_loss += loss.item()\n",
    "            preds = torch.argmax(outputs, dim=1)\n",
    "            correct += (preds == labels).sum().item()\n",
    "            total += labels.size(0)\n",
    "\n",
    "            progress_bar.set_postfix({\"Loss\": f\"{loss.item():.4f}\"})\n",
    "\n",
    "        train_acc = 100 * correct / total\n",
    "        val_loss, val_acc = evaluate(model, val_loader, criterion)\n",
    "\n",
    "        print(f\"Epoch {epoch+1}: Train Loss: {running_loss/len(train_loader):.4f}, Train Acc: {train_acc:.2f}%\")\n",
    "        print(f\"Validation Loss: {val_loss:.4f}, Validation Acc: {val_acc:.2f}%\")\n",
    "print(\"Done\")\n"
   ]
  },
  {
   "cell_type": "code",
   "execution_count": 9,
   "id": "f2d69c24-da6f-4b10-be5b-26735b092525",
   "metadata": {},
   "outputs": [
    {
     "name": "stderr",
     "output_type": "stream",
     "text": [
      "Epoch 1/50: 100%|███████████████████████████████████████████████████████| 317/317 [13:32<00:00,  2.56s/it, Loss=0.9673]\n"
     ]
    },
    {
     "name": "stdout",
     "output_type": "stream",
     "text": [
      "Epoch 1: Train Loss: 1.1033, Train Acc: 63.21%\n",
      "Validation Loss: 0.8485, Validation Acc: 69.65%\n"
     ]
    },
    {
     "name": "stderr",
     "output_type": "stream",
     "text": [
      "Epoch 2/50: 100%|███████████████████████████████████████████████████████| 317/317 [13:25<00:00,  2.54s/it, Loss=1.0596]\n"
     ]
    },
    {
     "name": "stdout",
     "output_type": "stream",
     "text": [
      "Epoch 2: Train Loss: 0.8471, Train Acc: 69.68%\n",
      "Validation Loss: 0.7128, Validation Acc: 73.73%\n"
     ]
    },
    {
     "name": "stderr",
     "output_type": "stream",
     "text": [
      "Epoch 3/50: 100%|███████████████████████████████████████████████████████| 317/317 [13:27<00:00,  2.55s/it, Loss=0.8308]\n"
     ]
    },
    {
     "name": "stdout",
     "output_type": "stream",
     "text": [
      "Epoch 3: Train Loss: 0.7573, Train Acc: 72.77%\n",
      "Validation Loss: 0.7298, Validation Acc: 74.34%\n"
     ]
    },
    {
     "name": "stderr",
     "output_type": "stream",
     "text": [
      "Epoch 4/50: 100%|███████████████████████████████████████████████████████| 317/317 [13:26<00:00,  2.55s/it, Loss=0.7848]\n"
     ]
    },
    {
     "name": "stdout",
     "output_type": "stream",
     "text": [
      "Epoch 4: Train Loss: 0.7003, Train Acc: 74.78%\n",
      "Validation Loss: 0.6316, Validation Acc: 76.46%\n"
     ]
    },
    {
     "name": "stderr",
     "output_type": "stream",
     "text": [
      "Epoch 5/50: 100%|███████████████████████████████████████████████████████| 317/317 [13:28<00:00,  2.55s/it, Loss=0.5821]\n"
     ]
    },
    {
     "name": "stdout",
     "output_type": "stream",
     "text": [
      "Epoch 5: Train Loss: 0.6477, Train Acc: 76.56%\n",
      "Validation Loss: 0.6583, Validation Acc: 76.57%\n"
     ]
    },
    {
     "name": "stderr",
     "output_type": "stream",
     "text": [
      "Epoch 6/50: 100%|███████████████████████████████████████████████████████| 317/317 [13:27<00:00,  2.55s/it, Loss=0.8533]\n"
     ]
    },
    {
     "name": "stdout",
     "output_type": "stream",
     "text": [
      "Epoch 6: Train Loss: 0.6100, Train Acc: 78.37%\n",
      "Validation Loss: 0.5880, Validation Acc: 78.61%\n"
     ]
    },
    {
     "name": "stderr",
     "output_type": "stream",
     "text": [
      "Epoch 7/50: 100%|███████████████████████████████████████████████████████| 317/317 [13:27<00:00,  2.55s/it, Loss=0.3684]\n"
     ]
    },
    {
     "name": "stdout",
     "output_type": "stream",
     "text": [
      "Epoch 7: Train Loss: 0.5742, Train Acc: 79.10%\n",
      "Validation Loss: 0.5920, Validation Acc: 79.12%\n"
     ]
    },
    {
     "name": "stderr",
     "output_type": "stream",
     "text": [
      "Epoch 8/50: 100%|███████████████████████████████████████████████████████| 317/317 [13:21<00:00,  2.53s/it, Loss=1.0547]\n"
     ]
    },
    {
     "name": "stdout",
     "output_type": "stream",
     "text": [
      "Epoch 8: Train Loss: 0.5417, Train Acc: 80.53%\n",
      "Validation Loss: 0.5903, Validation Acc: 79.99%\n"
     ]
    },
    {
     "name": "stderr",
     "output_type": "stream",
     "text": [
      "Epoch 9/50: 100%|███████████████████████████████████████████████████████| 317/317 [12:24<00:00,  2.35s/it, Loss=0.5742]\n"
     ]
    },
    {
     "name": "stdout",
     "output_type": "stream",
     "text": [
      "Epoch 9: Train Loss: 0.5059, Train Acc: 81.77%\n",
      "Validation Loss: 0.6054, Validation Acc: 80.17%\n"
     ]
    },
    {
     "name": "stderr",
     "output_type": "stream",
     "text": [
      "Epoch 10/50: 100%|██████████████████████████████████████████████████████| 317/317 [12:24<00:00,  2.35s/it, Loss=0.3269]\n"
     ]
    },
    {
     "name": "stdout",
     "output_type": "stream",
     "text": [
      "Epoch 10: Train Loss: 0.4815, Train Acc: 82.12%\n",
      "Validation Loss: 0.5513, Validation Acc: 80.60%\n"
     ]
    },
    {
     "name": "stderr",
     "output_type": "stream",
     "text": [
      "Epoch 11/50: 100%|██████████████████████████████████████████████████████| 317/317 [12:32<00:00,  2.37s/it, Loss=0.3879]\n"
     ]
    },
    {
     "name": "stdout",
     "output_type": "stream",
     "text": [
      "Epoch 11: Train Loss: 0.4581, Train Acc: 83.38%\n",
      "Validation Loss: 0.5657, Validation Acc: 81.61%\n"
     ]
    },
    {
     "name": "stderr",
     "output_type": "stream",
     "text": [
      "Epoch 12/50: 100%|██████████████████████████████████████████████████████| 317/317 [13:08<00:00,  2.49s/it, Loss=0.5497]\n"
     ]
    },
    {
     "name": "stdout",
     "output_type": "stream",
     "text": [
      "Epoch 12: Train Loss: 0.4366, Train Acc: 84.40%\n",
      "Validation Loss: 0.5555, Validation Acc: 81.74%\n"
     ]
    },
    {
     "name": "stderr",
     "output_type": "stream",
     "text": [
      "Epoch 13/50: 100%|██████████████████████████████████████████████████████| 317/317 [13:26<00:00,  2.54s/it, Loss=0.7355]\n"
     ]
    },
    {
     "name": "stdout",
     "output_type": "stream",
     "text": [
      "Epoch 13: Train Loss: 0.4041, Train Acc: 85.66%\n",
      "Validation Loss: 0.5912, Validation Acc: 81.37%\n"
     ]
    },
    {
     "name": "stderr",
     "output_type": "stream",
     "text": [
      "Epoch 14/50: 100%|██████████████████████████████████████████████████████| 317/317 [13:24<00:00,  2.54s/it, Loss=0.4550]\n"
     ]
    },
    {
     "name": "stdout",
     "output_type": "stream",
     "text": [
      "Epoch 14: Train Loss: 0.3905, Train Acc: 86.04%\n",
      "Validation Loss: 0.5466, Validation Acc: 83.01%\n"
     ]
    },
    {
     "name": "stderr",
     "output_type": "stream",
     "text": [
      "Epoch 15/50: 100%|██████████████████████████████████████████████████████| 317/317 [13:23<00:00,  2.54s/it, Loss=0.6574]\n"
     ]
    },
    {
     "name": "stdout",
     "output_type": "stream",
     "text": [
      "Epoch 15: Train Loss: 0.3733, Train Acc: 86.66%\n",
      "Validation Loss: 0.5582, Validation Acc: 82.49%\n"
     ]
    },
    {
     "name": "stderr",
     "output_type": "stream",
     "text": [
      "Epoch 16/50: 100%|██████████████████████████████████████████████████████| 317/317 [13:24<00:00,  2.54s/it, Loss=0.3676]\n"
     ]
    },
    {
     "name": "stdout",
     "output_type": "stream",
     "text": [
      "Epoch 16: Train Loss: 0.3543, Train Acc: 87.23%\n",
      "Validation Loss: 0.5653, Validation Acc: 82.71%\n"
     ]
    },
    {
     "name": "stderr",
     "output_type": "stream",
     "text": [
      "Epoch 17/50: 100%|██████████████████████████████████████████████████████| 317/317 [13:26<00:00,  2.54s/it, Loss=0.2970]\n"
     ]
    },
    {
     "name": "stdout",
     "output_type": "stream",
     "text": [
      "Epoch 17: Train Loss: 0.3395, Train Acc: 87.91%\n",
      "Validation Loss: 0.5874, Validation Acc: 82.63%\n"
     ]
    },
    {
     "name": "stderr",
     "output_type": "stream",
     "text": [
      "Epoch 18/50: 100%|██████████████████████████████████████████████████████| 317/317 [13:27<00:00,  2.55s/it, Loss=0.1618]\n"
     ]
    },
    {
     "name": "stdout",
     "output_type": "stream",
     "text": [
      "Epoch 18: Train Loss: 0.3265, Train Acc: 88.28%\n",
      "Validation Loss: 0.5430, Validation Acc: 84.57%\n"
     ]
    },
    {
     "name": "stderr",
     "output_type": "stream",
     "text": [
      "Epoch 19/50: 100%|██████████████████████████████████████████████████████| 317/317 [13:25<00:00,  2.54s/it, Loss=0.3946]\n"
     ]
    },
    {
     "name": "stdout",
     "output_type": "stream",
     "text": [
      "Epoch 19: Train Loss: 0.3142, Train Acc: 88.78%\n",
      "Validation Loss: 0.5764, Validation Acc: 83.44%\n"
     ]
    },
    {
     "name": "stderr",
     "output_type": "stream",
     "text": [
      "Epoch 20/50: 100%|██████████████████████████████████████████████████████| 317/317 [13:27<00:00,  2.55s/it, Loss=0.4019]\n"
     ]
    },
    {
     "name": "stdout",
     "output_type": "stream",
     "text": [
      "Epoch 20: Train Loss: 0.3039, Train Acc: 89.06%\n",
      "Validation Loss: 0.6306, Validation Acc: 83.56%\n"
     ]
    },
    {
     "name": "stderr",
     "output_type": "stream",
     "text": [
      "Epoch 21/50: 100%|██████████████████████████████████████████████████████| 317/317 [13:25<00:00,  2.54s/it, Loss=0.1274]\n"
     ]
    },
    {
     "name": "stdout",
     "output_type": "stream",
     "text": [
      "Epoch 21: Train Loss: 0.2935, Train Acc: 89.61%\n",
      "Validation Loss: 0.6116, Validation Acc: 83.72%\n"
     ]
    },
    {
     "name": "stderr",
     "output_type": "stream",
     "text": [
      "Epoch 22/50: 100%|██████████████████████████████████████████████████████| 317/317 [13:26<00:00,  2.54s/it, Loss=0.4490]\n"
     ]
    },
    {
     "name": "stdout",
     "output_type": "stream",
     "text": [
      "Epoch 22: Train Loss: 0.2806, Train Acc: 90.15%\n",
      "Validation Loss: 0.5614, Validation Acc: 84.63%\n"
     ]
    },
    {
     "name": "stderr",
     "output_type": "stream",
     "text": [
      "Epoch 23/50: 100%|██████████████████████████████████████████████████████| 317/317 [13:24<00:00,  2.54s/it, Loss=0.3107]\n"
     ]
    },
    {
     "name": "stdout",
     "output_type": "stream",
     "text": [
      "Epoch 23: Train Loss: 0.2788, Train Acc: 89.89%\n",
      "Validation Loss: 0.5810, Validation Acc: 84.70%\n"
     ]
    },
    {
     "name": "stderr",
     "output_type": "stream",
     "text": [
      "Epoch 24/50: 100%|██████████████████████████████████████████████████████| 317/317 [13:24<00:00,  2.54s/it, Loss=0.3700]\n"
     ]
    },
    {
     "name": "stdout",
     "output_type": "stream",
     "text": [
      "Epoch 24: Train Loss: 0.2655, Train Acc: 90.65%\n",
      "Validation Loss: 0.5531, Validation Acc: 84.31%\n"
     ]
    },
    {
     "name": "stderr",
     "output_type": "stream",
     "text": [
      "Epoch 25/50: 100%|██████████████████████████████████████████████████████| 317/317 [13:24<00:00,  2.54s/it, Loss=0.3666]\n"
     ]
    },
    {
     "name": "stdout",
     "output_type": "stream",
     "text": [
      "Epoch 25: Train Loss: 0.2639, Train Acc: 90.81%\n",
      "Validation Loss: 0.5840, Validation Acc: 84.80%\n"
     ]
    },
    {
     "name": "stderr",
     "output_type": "stream",
     "text": [
      "Epoch 26/50: 100%|██████████████████████████████████████████████████████| 317/317 [13:24<00:00,  2.54s/it, Loss=0.2497]\n"
     ]
    },
    {
     "name": "stdout",
     "output_type": "stream",
     "text": [
      "Epoch 26: Train Loss: 0.2562, Train Acc: 90.96%\n",
      "Validation Loss: 0.5479, Validation Acc: 85.02%\n"
     ]
    },
    {
     "name": "stderr",
     "output_type": "stream",
     "text": [
      "Epoch 27/50: 100%|██████████████████████████████████████████████████████| 317/317 [13:23<00:00,  2.54s/it, Loss=0.2483]\n"
     ]
    },
    {
     "name": "stdout",
     "output_type": "stream",
     "text": [
      "Epoch 27: Train Loss: 0.2507, Train Acc: 91.09%\n",
      "Validation Loss: 0.5868, Validation Acc: 84.41%\n"
     ]
    },
    {
     "name": "stderr",
     "output_type": "stream",
     "text": [
      "Epoch 28/50: 100%|██████████████████████████████████████████████████████| 317/317 [13:24<00:00,  2.54s/it, Loss=0.2923]\n"
     ]
    },
    {
     "name": "stdout",
     "output_type": "stream",
     "text": [
      "Epoch 28: Train Loss: 0.2441, Train Acc: 91.41%\n",
      "Validation Loss: 0.5441, Validation Acc: 84.76%\n"
     ]
    },
    {
     "name": "stderr",
     "output_type": "stream",
     "text": [
      "Epoch 29/50: 100%|██████████████████████████████████████████████████████| 317/317 [13:25<00:00,  2.54s/it, Loss=0.1421]\n"
     ]
    },
    {
     "name": "stdout",
     "output_type": "stream",
     "text": [
      "Epoch 29: Train Loss: 0.2355, Train Acc: 91.65%\n",
      "Validation Loss: 0.5682, Validation Acc: 84.61%\n"
     ]
    },
    {
     "name": "stderr",
     "output_type": "stream",
     "text": [
      "Epoch 30/50: 100%|██████████████████████████████████████████████████████| 317/317 [13:24<00:00,  2.54s/it, Loss=0.1728]\n"
     ]
    },
    {
     "name": "stdout",
     "output_type": "stream",
     "text": [
      "Epoch 30: Train Loss: 0.2331, Train Acc: 91.62%\n",
      "Validation Loss: 0.5957, Validation Acc: 84.72%\n"
     ]
    },
    {
     "name": "stderr",
     "output_type": "stream",
     "text": [
      "Epoch 31/50: 100%|██████████████████████████████████████████████████████| 317/317 [13:25<00:00,  2.54s/it, Loss=0.1618]\n"
     ]
    },
    {
     "name": "stdout",
     "output_type": "stream",
     "text": [
      "Epoch 31: Train Loss: 0.2220, Train Acc: 92.12%\n",
      "Validation Loss: 0.6265, Validation Acc: 84.96%\n"
     ]
    },
    {
     "name": "stderr",
     "output_type": "stream",
     "text": [
      "Epoch 32/50: 100%|██████████████████████████████████████████████████████| 317/317 [13:23<00:00,  2.53s/it, Loss=0.4082]\n"
     ]
    },
    {
     "name": "stdout",
     "output_type": "stream",
     "text": [
      "Epoch 32: Train Loss: 0.2294, Train Acc: 91.82%\n",
      "Validation Loss: 0.5461, Validation Acc: 85.42%\n"
     ]
    },
    {
     "name": "stderr",
     "output_type": "stream",
     "text": [
      "Epoch 33/50: 100%|██████████████████████████████████████████████████████| 317/317 [13:25<00:00,  2.54s/it, Loss=0.2774]\n"
     ]
    },
    {
     "name": "stdout",
     "output_type": "stream",
     "text": [
      "Epoch 33: Train Loss: 0.2100, Train Acc: 92.67%\n",
      "Validation Loss: 0.6231, Validation Acc: 85.00%\n"
     ]
    },
    {
     "name": "stderr",
     "output_type": "stream",
     "text": [
      "Epoch 34/50: 100%|██████████████████████████████████████████████████████| 317/317 [13:26<00:00,  2.54s/it, Loss=0.3096]\n"
     ]
    },
    {
     "name": "stdout",
     "output_type": "stream",
     "text": [
      "Epoch 34: Train Loss: 0.2100, Train Acc: 92.80%\n",
      "Validation Loss: 0.5525, Validation Acc: 85.95%\n"
     ]
    },
    {
     "name": "stderr",
     "output_type": "stream",
     "text": [
      "Epoch 35/50: 100%|██████████████████████████████████████████████████████| 317/317 [13:24<00:00,  2.54s/it, Loss=0.1646]\n"
     ]
    },
    {
     "name": "stdout",
     "output_type": "stream",
     "text": [
      "Epoch 35: Train Loss: 0.2150, Train Acc: 92.30%\n",
      "Validation Loss: 0.5967, Validation Acc: 85.32%\n"
     ]
    },
    {
     "name": "stderr",
     "output_type": "stream",
     "text": [
      "Epoch 36/50: 100%|██████████████████████████████████████████████████████| 317/317 [12:45<00:00,  2.42s/it, Loss=0.0867]\n"
     ]
    },
    {
     "name": "stdout",
     "output_type": "stream",
     "text": [
      "Epoch 36: Train Loss: 0.2037, Train Acc: 92.73%\n",
      "Validation Loss: 0.5651, Validation Acc: 85.91%\n"
     ]
    },
    {
     "name": "stderr",
     "output_type": "stream",
     "text": [
      "Epoch 37/50: 100%|██████████████████████████████████████████████████████| 317/317 [12:22<00:00,  2.34s/it, Loss=0.4395]\n"
     ]
    },
    {
     "name": "stdout",
     "output_type": "stream",
     "text": [
      "Epoch 37: Train Loss: 0.2022, Train Acc: 93.03%\n",
      "Validation Loss: 0.5616, Validation Acc: 85.91%\n"
     ]
    },
    {
     "name": "stderr",
     "output_type": "stream",
     "text": [
      "Epoch 38/50: 100%|██████████████████████████████████████████████████████| 317/317 [12:35<00:00,  2.38s/it, Loss=0.2027]\n"
     ]
    },
    {
     "name": "stdout",
     "output_type": "stream",
     "text": [
      "Epoch 38: Train Loss: 0.2014, Train Acc: 93.18%\n",
      "Validation Loss: 0.5791, Validation Acc: 85.55%\n"
     ]
    },
    {
     "name": "stderr",
     "output_type": "stream",
     "text": [
      "Epoch 39/50: 100%|██████████████████████████████████████████████████████| 317/317 [13:26<00:00,  2.54s/it, Loss=0.2470]\n"
     ]
    },
    {
     "name": "stdout",
     "output_type": "stream",
     "text": [
      "Epoch 39: Train Loss: 0.1945, Train Acc: 93.07%\n",
      "Validation Loss: 0.6499, Validation Acc: 84.92%\n"
     ]
    },
    {
     "name": "stderr",
     "output_type": "stream",
     "text": [
      "Epoch 40/50: 100%|██████████████████████████████████████████████████████| 317/317 [14:11<00:00,  2.69s/it, Loss=0.2147]\n"
     ]
    },
    {
     "name": "stdout",
     "output_type": "stream",
     "text": [
      "Epoch 40: Train Loss: 0.1963, Train Acc: 93.00%\n",
      "Validation Loss: 0.6004, Validation Acc: 86.48%\n"
     ]
    },
    {
     "name": "stderr",
     "output_type": "stream",
     "text": [
      "Epoch 41/50: 100%|██████████████████████████████████████████████████████| 317/317 [14:43<00:00,  2.79s/it, Loss=0.2156]\n"
     ]
    },
    {
     "name": "stdout",
     "output_type": "stream",
     "text": [
      "Epoch 41: Train Loss: 0.1899, Train Acc: 93.19%\n",
      "Validation Loss: 0.6082, Validation Acc: 86.01%\n"
     ]
    },
    {
     "name": "stderr",
     "output_type": "stream",
     "text": [
      "Epoch 42/50: 100%|██████████████████████████████████████████████████████| 317/317 [13:31<00:00,  2.56s/it, Loss=0.2030]\n"
     ]
    },
    {
     "name": "stdout",
     "output_type": "stream",
     "text": [
      "Epoch 42: Train Loss: 0.1840, Train Acc: 93.43%\n",
      "Validation Loss: 0.6258, Validation Acc: 85.81%\n"
     ]
    },
    {
     "name": "stderr",
     "output_type": "stream",
     "text": [
      "Epoch 43/50: 100%|██████████████████████████████████████████████████████| 317/317 [13:32<00:00,  2.56s/it, Loss=0.1998]\n"
     ]
    },
    {
     "name": "stdout",
     "output_type": "stream",
     "text": [
      "Epoch 43: Train Loss: 0.1842, Train Acc: 93.47%\n",
      "Validation Loss: 0.6306, Validation Acc: 85.71%\n"
     ]
    },
    {
     "name": "stderr",
     "output_type": "stream",
     "text": [
      "Epoch 44/50: 100%|██████████████████████████████████████████████████████| 317/317 [13:33<00:00,  2.57s/it, Loss=0.0612]\n"
     ]
    },
    {
     "name": "stdout",
     "output_type": "stream",
     "text": [
      "Epoch 44: Train Loss: 0.1808, Train Acc: 93.54%\n",
      "Validation Loss: 0.5897, Validation Acc: 86.11%\n"
     ]
    },
    {
     "name": "stderr",
     "output_type": "stream",
     "text": [
      "Epoch 45/50: 100%|██████████████████████████████████████████████████████| 317/317 [13:34<00:00,  2.57s/it, Loss=0.1184]\n"
     ]
    },
    {
     "name": "stdout",
     "output_type": "stream",
     "text": [
      "Epoch 45: Train Loss: 0.1843, Train Acc: 93.38%\n",
      "Validation Loss: 0.6404, Validation Acc: 86.24%\n"
     ]
    },
    {
     "name": "stderr",
     "output_type": "stream",
     "text": [
      "Epoch 46/50: 100%|██████████████████████████████████████████████████████| 317/317 [13:33<00:00,  2.57s/it, Loss=0.2202]\n"
     ]
    },
    {
     "name": "stdout",
     "output_type": "stream",
     "text": [
      "Epoch 46: Train Loss: 0.1873, Train Acc: 93.39%\n",
      "Validation Loss: 0.6244, Validation Acc: 85.69%\n"
     ]
    },
    {
     "name": "stderr",
     "output_type": "stream",
     "text": [
      "Epoch 47/50: 100%|██████████████████████████████████████████████████████| 317/317 [13:32<00:00,  2.56s/it, Loss=0.4277]\n"
     ]
    },
    {
     "name": "stdout",
     "output_type": "stream",
     "text": [
      "Epoch 47: Train Loss: 0.1804, Train Acc: 93.69%\n",
      "Validation Loss: 0.6785, Validation Acc: 85.87%\n"
     ]
    },
    {
     "name": "stderr",
     "output_type": "stream",
     "text": [
      "Epoch 48/50: 100%|██████████████████████████████████████████████████████| 317/317 [13:32<00:00,  2.56s/it, Loss=0.1944]\n"
     ]
    },
    {
     "name": "stdout",
     "output_type": "stream",
     "text": [
      "Epoch 48: Train Loss: 0.1762, Train Acc: 93.99%\n",
      "Validation Loss: 0.6017, Validation Acc: 86.20%\n"
     ]
    },
    {
     "name": "stderr",
     "output_type": "stream",
     "text": [
      "Epoch 49/50: 100%|██████████████████████████████████████████████████████| 317/317 [13:30<00:00,  2.56s/it, Loss=0.2066]\n"
     ]
    },
    {
     "name": "stdout",
     "output_type": "stream",
     "text": [
      "Epoch 49: Train Loss: 0.1673, Train Acc: 94.22%\n",
      "Validation Loss: 0.6156, Validation Acc: 85.45%\n"
     ]
    },
    {
     "name": "stderr",
     "output_type": "stream",
     "text": [
      "Epoch 50/50: 100%|██████████████████████████████████████████████████████| 317/317 [13:32<00:00,  2.56s/it, Loss=0.1889]\n"
     ]
    },
    {
     "name": "stdout",
     "output_type": "stream",
     "text": [
      "Epoch 50: Train Loss: 0.1724, Train Acc: 93.89%\n",
      "Validation Loss: 0.5995, Validation Acc: 86.07%\n"
     ]
    }
   ],
   "source": [
    "train_model(model, train_loader, val_loader, criterion, optimizer, epochs=50)\n"
   ]
  },
  {
   "cell_type": "code",
   "execution_count": 26,
   "id": "59f6c119-e177-46e5-a174-c361d05a75f1",
   "metadata": {},
   "outputs": [
    {
     "name": "stdout",
     "output_type": "stream",
     "text": [
      "Validation Loss: 0.5995, Validation Accuracy: 0.8607\n",
      "Validation F1-Score: 0.8577, Validation Recall: 0.8607\n"
     ]
    }
   ],
   "source": [
    "from sklearn.metrics import f1_score, recall_score\n",
    "\n",
    "def evaluate_with_metrics(model, loader, criterion):\n",
    "    model.eval()\n",
    "    total_loss, correct, total = 0, 0, 0\n",
    "    all_preds, all_labels = [], []\n",
    "\n",
    "    with torch.no_grad():\n",
    "        for images, labels in loader:\n",
    "            images, labels = images.to(device), labels.to(device)\n",
    "\n",
    "            outputs = model(images)\n",
    "            loss = criterion(outputs, labels)\n",
    "\n",
    "            total_loss += loss.item()\n",
    "            preds = torch.argmax(outputs, dim=1)\n",
    "\n",
    "            correct += (preds == labels).sum().item()\n",
    "            total += labels.size(0)\n",
    "\n",
    "            # Collect predictions and labels for F1-score and Recall\n",
    "            all_preds.extend(preds.cpu().numpy())\n",
    "            all_labels.extend(labels.cpu().numpy())\n",
    "\n",
    "    avg_loss = total_loss / len(loader)\n",
    "    accuracy = correct / total\n",
    "\n",
    "    # Compute F1-score and Recall\n",
    "    f1 = f1_score(all_labels, all_preds, average=\"weighted\")\n",
    "    recall = recall_score(all_labels, all_preds, average=\"weighted\")\n",
    "\n",
    "    return avg_loss, accuracy, f1, recall\n",
    "\n",
    "# ✅ Example Usage\n",
    "val_loss, val_acc, val_f1, val_recall = evaluate_with_metrics(model, val_loader, criterion)\n",
    "print(f\"Validation Loss: {val_loss:.4f}, Validation Accuracy: {val_acc:.4f}\")\n",
    "print(f\"Validation F1-Score: {val_f1:.4f}, Validation Recall: {val_recall:.4f}\")\n"
   ]
  }
 ],
 "metadata": {
  "kernelspec": {
   "display_name": "Python 3 (ipykernel)",
   "language": "python",
   "name": "python3"
  },
  "language_info": {
   "codemirror_mode": {
    "name": "ipython",
    "version": 3
   },
   "file_extension": ".py",
   "mimetype": "text/x-python",
   "name": "python",
   "nbconvert_exporter": "python",
   "pygments_lexer": "ipython3",
   "version": "3.12.4"
  }
 },
 "nbformat": 4,
 "nbformat_minor": 5
}
